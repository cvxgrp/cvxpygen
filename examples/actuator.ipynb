{
 "cells": [
  {
   "cell_type": "markdown",
   "metadata": {},
   "source": [
    "## Actuator Control Allocation Example\n",
    "\n",
    "When controlling physical systems like spacecraft or automobiles, the controller commands a desired control input $w \\in \\mathbb{R}^m$, which might be a wrench vector, containg forces and torques ($m=6$).\n",
    "\n",
    "Usually, multiple atuators are available to produce this control input. The vector $u \\in \\mathbb{R}^n$ contains the single actuator input values in its components. If $n > m$ and the actuators are in general position, we call the system \"over-actuated\", since there are many realizations of $u$ that result in the same value of $w$ via the linear mapping $A$. \n",
    "\n",
    "Having this freedom of choice, we want to minimize energy consumption, modeled as $\\kappa^T | u |$ (with $\\kappa \\geq 0$), while discouraging rapid changes of the actuation values, i.e., $\\lambda^\\mathrm{sm} \\Vert u-u^\\mathrm{prev} \\Vert_2^2$ with $\\lambda^\\mathrm{sm} \\geq 0$ and $u^\\mathrm{prev}$ being the actuation of the previous time step. Given the bounds $u^\\mathrm{min}$ and $u^\\mathrm{max}$ $(u^\\mathrm{min} \\leq u^\\mathrm{max})$ on $u$, there might be cases when the desired control input $w$ is infeasible. Hence, we only softly penalize deviations between desired and actual control input with the cost term $\\Vert A u - w \\Vert_2^2$. We solve the optimization problem\n",
    "\n",
    "\\begin{equation}\n",
    "\\begin{array}{ll}\n",
    "\\text{minimize} \\quad &\\Vert A u - w \\Vert_2^2  + \\lambda^\\mathrm{sm} \\Vert u-u^\\mathrm{prev} \\Vert_2^2 + \\kappa^T | u |\\\\\n",
    "\\text{subject to} \\quad &u^\\mathrm{min} \\leq u \\leq u^\\mathrm{max},\n",
    "\\end{array}\n",
    "\\end{equation}\n",
    "\n",
    "with variable $u \\in \\mathbb{R}^n$. To make the problem [DPP-compliant](https://www.cvxpy.org/tutorial/advanced/index.html#disciplined-parametrized-programming), we introduce the additional variable $\\Delta u = u - u^\\mathrm{prev}$ and solve\n",
    "\n",
    "\\begin{equation}\n",
    "\\begin{array}{ll}\n",
    "\\text{minimize} \\quad &\\Vert A u - w \\Vert_2^2  + \\lambda^\\mathrm{sm} \\Vert \\Delta u \\Vert_2^2 + \\kappa^T | u |\\\\\n",
    "\\text{subject to} \\quad &u^\\mathrm{min} \\leq u \\leq u^\\mathrm{max} \\\\\n",
    "&\\Delta u = u-u^\\mathrm{prev}.\n",
    "\\end{array}\n",
    "\\end{equation}\n",
    "\n",
    "Let's define the corresponding CVXPY problem."
   ]
  },
  {
   "cell_type": "code",
   "execution_count": null,
   "metadata": {},
   "outputs": [],
   "source": [
    "import cvxpy as cp\n",
    "\n",
    "# define dimensions\n",
    "n, m = 8, 3\n",
    "\n",
    "# define variables\n",
    "u = cp.Variable(n, name='u')\n",
    "delta_u = cp.Variable(n, name='delta_u')\n",
    "\n",
    "# define parameters\n",
    "A = cp.Parameter((m, n), name='A')\n",
    "w = cp.Parameter(m, name='w')\n",
    "lamb_sm = cp.Parameter(nonneg=True, name='lamb_sm')\n",
    "kappa = cp.Parameter(n, nonneg=True, name='kappa')\n",
    "u_prev = cp.Parameter(n, name='u_prev')\n",
    "u_min = cp.Parameter(n, name='u_min')\n",
    "u_max = cp.Parameter(n, name='u_max')\n",
    "\n",
    "# define objective\n",
    "objective = cp.Minimize(cp.sum_squares(A@u-w) + lamb_sm*cp.sum_squares(delta_u) + kappa@cp.abs(u))\n",
    "\n",
    "# define constraints\n",
    "constraints = [u_min <= u, u <= u_max, delta_u == u-u_prev]\n",
    "\n",
    "# define problem\n",
    "problem = cp.Problem(objective, constraints)"
   ]
  },
  {
   "cell_type": "markdown",
   "metadata": {},
   "source": [
    "Assign parameter values and solve the problem. In this case, the wrench vector $w = \\left[f^T t\\right]^T$ consists of force $f \\in \\mathbb{R}^2$ and torque $t \\in \\mathbb{R}$ in two-dimensional space. The control input $u \\in \\mathbb{R}^8$ contains four pairs of horizontal and vertical forces at 4 positions in the plane."
   ]
  },
  {
   "cell_type": "code",
   "execution_count": null,
   "metadata": {},
   "outputs": [],
   "source": [
    "import numpy as np\n",
    "\n",
    "A.value = np.array([[1, 0, 1, 0, 1, 0, 1, 0],\n",
    "                    [0, 1, 0, 1, 0, 1, 0, 1],\n",
    "                    [1, -1, 1, 1, -1, 1, -1, -1]])\n",
    "\n",
    "w.value = np.array([1, 1, 1])\n",
    "lamb_sm.value = 0.5\n",
    "kappa.value = 0.1*np.ones(8)\n",
    "u_prev.value = np.zeros(8)\n",
    "u_min.value = -np.ones(8)\n",
    "u_max.value = np.ones(8)\n",
    "\n",
    "val = problem.solve()"
   ]
  },
  {
   "cell_type": "markdown",
   "metadata": {},
   "source": [
    "Generating C source for the problem is as easy as:"
   ]
  },
  {
   "cell_type": "code",
   "execution_count": null,
   "metadata": {},
   "outputs": [],
   "source": [
    "from cvxpygen import cpg\n",
    "\n",
    "cpg.generate_code(problem, code_dir='actuator_code')"
   ]
  },
  {
   "cell_type": "markdown",
   "metadata": {},
   "source": [
    "Now, you can use a python wrapper around the generated code as a custom CVXPY solve method."
   ]
  },
  {
   "cell_type": "code",
   "execution_count": null,
   "metadata": {},
   "outputs": [],
   "source": [
    "from actuator_code.cpg_solver import cpg_solve\n",
    "import numpy as np\n",
    "import dill as pickle\n",
    "import time\n",
    "\n",
    "# load the serialized problem formulation\n",
    "with open('actuator_code/problem.pickle', 'rb') as f:\n",
    "    prob = pickle.load(f)\n",
    "\n",
    "# assign parameter values\n",
    "prob.param_dict['A'].value = np.array([[1, 0, 1, 0, 1, 0, 1, 0],\n",
    "                                       [0, 1, 0, 1, 0, 1, 0, 1],\n",
    "                                       [1, -1, 1, 1, -1, 1, -1, -1]])\n",
    "\n",
    "prob.param_dict['w'].value = np.array([1, 1, 1])\n",
    "prob.param_dict['lamb_sm'].value = 0.5\n",
    "prob.param_dict['kappa'].value = 0.1*np.ones(8)\n",
    "prob.param_dict['u_prev'].value = np.zeros(8)\n",
    "prob.param_dict['u_min'].value = -np.ones(8)\n",
    "prob.param_dict['u_max'].value = np.ones(8)\n",
    "\n",
    "# solve problem conventionally\n",
    "t0 = time.time()\n",
    "# CVXPY chooses eps_abs=eps_rel=1e-5, max_iter=10000, polish=True by default,\n",
    "# however, we choose the OSQP default values here, as they are used for code generation as well\n",
    "val = prob.solve(eps_abs=1e-3, eps_rel=1e-3, max_iter=4000, polish=False)\n",
    "t1 = time.time()\n",
    "print('\\nCVXPY\\nSolve time: %.3f ms' % (1000 * (t1 - t0)))\n",
    "print('Objective function value: %.6f\\n' % val)\n",
    "\n",
    "# solve problem with C code via python wrapper\n",
    "prob.register_solve('CPG', cpg_solve)\n",
    "t0 = time.time()\n",
    "val = prob.solve(method='CPG')\n",
    "t1 = time.time()\n",
    "print('\\nCVXPYgen\\nSolve time: %.3f ms' % (1000 * (t1 - t0)))\n",
    "print('Objective function value: %.6f\\n' % val)"
   ]
  },
  {
   "cell_type": "markdown",
   "metadata": {},
   "source": [
    "Optimization results look as follows:"
   ]
  },
  {
   "cell_type": "code",
   "execution_count": null,
   "metadata": {},
   "outputs": [],
   "source": [
    "from visualization.actuator import create_animation\n",
    "from IPython.display import Image\n",
    "    \n",
    "create_animation(prob, 'actuator_animation')\n",
    "\n",
    "with open('actuator_animation.gif', 'rb') as f:\n",
    "    display(Image(f.read()))"
   ]
  }
 ],
 "metadata": {
  "kernelspec": {
   "display_name": "cvxpygen",
   "language": "python",
   "name": "cvxpygen"
  },
  "language_info": {
   "codemirror_mode": {
    "name": "ipython",
    "version": 3
   },
   "file_extension": ".py",
   "mimetype": "text/x-python",
   "name": "python",
   "nbconvert_exporter": "python",
   "pygments_lexer": "ipython3",
   "version": "3.9.7"
  }
 },
 "nbformat": 4,
 "nbformat_minor": 4
}
