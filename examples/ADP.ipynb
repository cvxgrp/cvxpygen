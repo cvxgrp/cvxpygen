{
 "cells": [
  {
   "cell_type": "markdown",
   "metadata": {},
   "source": [
    "## Approximate Dynamic Programming Example\n",
    "\n",
    "We consider an optimal control problem that is similar to that described in the [model predictive control example](https://github.com/cvxgrp/codegen/blob/main/examples/MPC.ipynb). However, we assume that the system matrices are functions of the state $x \\in \\mathbb{R}^n$, i.e., we have the nonlinear system $\\left( A(x), B(x)\\right) \\in \\left( \\mathbb{R}^{n \\times n}, \\mathbb{R}^{n \\times m} \\right)$ with control input $u \\in \\mathbb{R}^m$ subject to optimization. The dynamics equation $x_{i+1} = A(x_i) x_i + B(x_i) u_i$ would be a non-convex constraint. Thus, we perform Approximate Dynamic Programming (ADP) [1] by predicting just one time step ahead and approximating the infinite-horizon cost as $\\left(A(x) x + B(x) u\\right)^T P \\left(A(x) x + B(x) u\\right)$ with measurement $x$. We solve the optimization problem\n",
    "\n",
    "\\begin{equation}\n",
    "\\begin{array}{ll}\n",
    "\\text{minimize} \\quad & \\left(A(x) x + B(x) u\\right)^T P \\left(A(x) x + B(x) u\\right) + u^T R u\\\\\n",
    "\\text{subject to} \\quad & \\Vert u \\Vert_2 \\leq 1,\n",
    "\\end{array}\n",
    "\\end{equation}\n",
    "\n",
    "where $u \\in \\mathbb{R}^m$ is the variable and constrained within a euclidean ball of size $1$. The cost matrices are positive definite: $P, R \\in \\mathbb{S}_{++}^n, \\mathbb{S}_{++}^m$. We reformulate the problem to be [DPP-compliant](https://www.cvxpy.org/tutorial/advanced/index.html#disciplined-parametrized-programming), i.e.,\n",
    "\n",
    "\\begin{equation}\n",
    "\\begin{array}{ll}\n",
    "\\text{minimize} \\quad & \\Vert f+ G u \\Vert_2^2 + \\Vert R^{1/2} u \\Vert_2^2\\\\\n",
    "\\text{subject to} \\quad &\\Vert u \\Vert_2 \\leq 1,\n",
    "\\end{array}\n",
    "\\end{equation}\n",
    "\n",
    "where the new set of parameters contains $f = P^{1/2} A(x) x$, $G = P^{1/2} B(x)$, and $R^{1/2}$. Let's define the corresponding CVXPY problem."
   ]
  },
  {
   "cell_type": "code",
   "execution_count": null,
   "metadata": {},
   "outputs": [],
   "source": [
    "import cvxpy as cp\n",
    "\n",
    "# define dimensions\n",
    "n, m = 6, 3\n",
    "\n",
    "# define variables\n",
    "u = cp.Variable(m, name='u')\n",
    "\n",
    "# define parameters\n",
    "Rsqrt = cp.Parameter((m, m), name='Rsqrt')\n",
    "f = cp.Parameter(n, name='f')\n",
    "G = cp.Parameter((n, m), name='G')\n",
    "\n",
    "# define objective\n",
    "objective = cp.Minimize(cp.sum_squares(f+G@u) + cp.sum_squares(Rsqrt@u))\n",
    "\n",
    "# define constraints\n",
    "constraints = [cp.norm(u, 2) <= 1]\n",
    "\n",
    "# define problem\n",
    "problem = cp.Problem(objective, constraints)"
   ]
  },
  {
   "cell_type": "markdown",
   "metadata": {},
   "source": [
    "Assign parameter values and solve the problem. In this case, the state $x = \\left[p^T v^T\\right]^T$ consists of position $p \\in \\mathbb{R}^3$ and velocity $v \\in \\mathbb{R}^3$ of some rigid body in three-dimensional space. The control input $u$ represents aerodynamic actuation. Multiplied with velocity, the force vector that acts on the body's center of mass results. Rotational dynamics are not considered. The discretization step is denoted by $t_d \\in \\mathbb{R}_{++}$. Air resistance forces relate to the squared velocity."
   ]
  },
  {
   "cell_type": "code",
   "execution_count": null,
   "metadata": {},
   "outputs": [],
   "source": [
    "import numpy as np\n",
    "\n",
    "def dynamics(x):\n",
    "    \n",
    "    # continuous-time dynmaics\n",
    "    A_cont = np.array([[0, 0, 0, 1, 0, 0],\n",
    "                       [0, 0, 0, 0, 1, 0],\n",
    "                       [0, 0, 0, 0, 0, 1],\n",
    "                       [0, 0, 0, -x[3], 0, 0],\n",
    "                       [0, 0, 0, 0, -x[4], 0],\n",
    "                       [0, 0, 0, 0, 0, -x[5]]])\n",
    "    mass = 1\n",
    "    B_cont = np.concatenate((np.zeros((3,3)), \n",
    "                             (1/mass)*np.diag(x[3:])), axis=0)\n",
    "\n",
    "    # discrete-time dynamics\n",
    "    td = 0.1\n",
    "    A = np.eye(n)+td*A_cont\n",
    "    B = td*B_cont\n",
    "    \n",
    "    return A, B\n",
    "\n",
    "# cost\n",
    "Rsqrt.value = np.sqrt(0.1)*np.eye(m)\n",
    "Psqrt = np.eye(n)\n",
    "x = np.array([2, 2, 2, -1, -1, 1])\n",
    "A, B = dynamics(x)\n",
    "f.value = np.matmul(Psqrt, np.matmul(A, x))\n",
    "G.value = np.matmul(Psqrt, B)\n",
    "\n",
    "val = problem.solve()"
   ]
  },
  {
   "cell_type": "markdown",
   "metadata": {},
   "source": [
    "Generating C source for the problem is as easy as:"
   ]
  },
  {
   "cell_type": "code",
   "execution_count": null,
   "metadata": {},
   "outputs": [],
   "source": [
    "from cvxpygen import cpg\n",
    "\n",
    "cpg.generate_code(problem, code_dir='ADP_code')"
   ]
  },
  {
   "cell_type": "markdown",
   "metadata": {},
   "source": [
    "Now, you can use a python wrapper around the generated code as a custom CVXPY solve method."
   ]
  },
  {
   "cell_type": "code",
   "execution_count": null,
   "metadata": {},
   "outputs": [],
   "source": [
    "from ADP_code.cpg_solver import cpg_solve\n",
    "import numpy as np\n",
    "import dill as pickle\n",
    "import time\n",
    "\n",
    "# load the serialized problem formulation\n",
    "with open('ADP_code/problem.pickle', 'rb') as f:\n",
    "    prob = pickle.load(f)\n",
    "\n",
    "# assign parameter values\n",
    "prob.param_dict['Rsqrt'].value = np.sqrt(0.1)*np.eye(m)\n",
    "prob.param_dict['f'].value = np.matmul(Psqrt, np.matmul(A, x))\n",
    "prob.param_dict['G'].value = np.matmul(Psqrt, B)\n",
    "\n",
    "# solve problem conventionally\n",
    "t0 = time.time()\n",
    "# CVXPY chooses eps_abs=eps_rel=1e-5, max_iter=10000, polish=True by default,\n",
    "# however, we choose the OSQP default values here, as they are used for code generation as well\n",
    "val = prob.solve()\n",
    "t1 = time.time()\n",
    "print('\\nCVXPY\\nSolve time: %.3f ms' % (1000 * (t1 - t0)))\n",
    "print('Objective function value: %.6f\\n' % val)\n",
    "\n",
    "# solve problem with C code via python wrapper\n",
    "prob.register_solve('CPG', cpg_solve)\n",
    "t0 = time.time()\n",
    "val = prob.solve(method='CPG')\n",
    "t1 = time.time()\n",
    "print('\\nCVXPYgen\\nSolve time: %.3f ms' % (1000 * (t1 - t0)))\n",
    "print('Objective function value: %.6f\\n' % val)"
   ]
  },
  {
   "cell_type": "markdown",
   "metadata": {},
   "source": [
    "\\[1\\] Wang, Yang, Brendan O'Donoghue, and Stephen Boyd. \"Approximate dynamic programming via iterated Bellman inequalities.\" International Journal of Robust and Nonlinear Control 25.10 (2015): 1472-1496."
   ]
  }
 ],
 "metadata": {
  "kernelspec": {
   "display_name": "cvxpygen",
   "language": "python",
   "name": "cvxpygen"
  },
  "language_info": {
   "codemirror_mode": {
    "name": "ipython",
    "version": 3
   },
   "file_extension": ".py",
   "mimetype": "text/x-python",
   "name": "python",
   "nbconvert_exporter": "python",
   "pygments_lexer": "ipython3",
   "version": "3.9.7"
  }
 },
 "nbformat": 4,
 "nbformat_minor": 4
}
