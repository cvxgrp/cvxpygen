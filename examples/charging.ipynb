{
 "cells": [
  {
   "cell_type": "markdown",
   "metadata": {},
   "source": [
    "## Optimal Charging Example\n",
    "\n",
    "We have an electric storage device with state-of-charge (SOC) $q_t \\in \\mathbb{R}_+$ at time $t$ and capacity $Q \\in \\mathbb{R}_+$. We denote the amount of energy charged from time $t$ to time $t+1$ as $u_t \\in \\mathbb{R}$, i.e., $q_{t+1} = q_t + u_t$. Power is limited by $C \\in \\mathbb{R}_+$ ($D \\in \\mathbb{R}_+$), the maximum possible magnitude of charging (discharging) power. The energy price $P(u_t)$ is higher when buying energy from the grid compared to the case of selling energy to the grid. Specifically, \n",
    "\n",
    "\\begin{equation}\n",
    "P(u_i) = \\begin{cases}\n",
    "p_t u_t (1+\\eta) \\quad &\\text{if} \\quad u_t > 0 \\\\\n",
    "p_t u_t (1-\\eta) \\quad &\\text{otherwise},\n",
    "\\end{cases}\n",
    "\\end{equation}\n",
    "\n",
    "where $p_t \\in \\mathbb{R}_+$ is the average market price at time $t$ and $0 < \\eta < 1$. To optimize the cost of charging the energy storage from empty to full within a time period of length $T$, we solve the optimization problem\n",
    "\n",
    "\\begin{equation}\n",
    "\\begin{array}{ll}\n",
    "\\text{minimize} \\quad & \\sum_{t=0}^T p_t \\left(u_t + \\eta |u_t|\\right) + \\gamma u_t^2\\\\\n",
    "\\text{subject to} \\quad &q_{t+1} = q_t + u_t \\quad \\forall t \\in \\{0,...,T \\}\\\\\n",
    "&-D \\leq u_t \\leq C \\quad \\forall t \\in \\{0,...,T \\}\\\\\n",
    "&0 \\leq q_t \\leq Q \\quad \\forall t \\in \\{0,...,T \\}\\\\\n",
    "&q_0 = 0\\\\\n",
    "&q_{T+1} = Q,\n",
    "\\end{array}\n",
    "\\end{equation}\n",
    "\n",
    "where $u_t \\in \\mathbb{R}$ and $q_t \\in \\mathbb{R}_+$ are the variables. We have added the regularization term $\\gamma u_t^2$ to reduce stress on the electronic system due to peak power values, with $\\gamma \\in \\mathbb{R}_+$. We reformulate the problem to be [DPP-compliant](https://www.cvxpy.org/tutorial/advanced/index.html#disciplined-parametrized-programming) by introducing the parameter $s_t = p_t \\eta$ and we use time vectors $u \\in \\mathbb{R}^T$, $p, s \\in \\mathbb{R}_+^T$ and $q \\in \\mathbb{R}_+^{T+1}$ to summarize the temporal variables and parameters. Finally, we solve\n",
    "\n",
    "\\begin{equation}\n",
    "\\begin{array}{ll}\n",
    "\\text{minimize} \\quad & p^T u + s^T |u| + \\gamma \\Vert u \\Vert_2^2\\\\\n",
    "\\text{subject to} \\quad &q_{1:T+1} = q_{0:T} + u\\\\\n",
    "&-D \\mathbb{1} \\leq u \\leq C \\mathbb{1}\\\\\n",
    "&\\mathbb{0} \\leq q \\leq Q \\mathbb{1}\\\\\n",
    "&q_0 = 0\\\\\n",
    "&q_{T+1} = Q,\n",
    "\\end{array}\n",
    "\\end{equation}\n",
    "\n",
    "where $|u|$ is the element-wise absolute value of $u$. Let's define the corresponding CVXPY problem. To model a one-day period with a resolution of one minute, we choose $T=24 \\cdot 60 = 1440$."
   ]
  },
  {
   "cell_type": "code",
   "execution_count": null,
   "metadata": {},
   "outputs": [],
   "source": [
    "import cvxpy as cp\n",
    "import numpy as np\n",
    "\n",
    "# define dimension\n",
    "T = 1440\n",
    "\n",
    "# define variables\n",
    "u = cp.Variable(T, name='u')\n",
    "q = cp.Variable(T+1, name='q')\n",
    "\n",
    "# define parameters\n",
    "p = cp.Parameter(T, nonneg=True, name='p')\n",
    "s = cp.Parameter(T, nonneg=True, name='s')\n",
    "D = cp.Parameter(nonneg=True, name='D')\n",
    "C = cp.Parameter(nonneg=True, name='C')\n",
    "Q = cp.Parameter(nonneg=True, name='Q')\n",
    "gamma = cp.Parameter(nonneg=True, name='gamma')\n",
    "\n",
    "# define objective\n",
    "objective = cp.Minimize(p@u + s@cp.abs(u) + gamma*cp.sum_squares(u))\n",
    "\n",
    "# define constraints\n",
    "constraints = [q[1:] == q[:-1] + u,\n",
    "               -D <= u, u<= C,\n",
    "               0 <= q, q <= Q,\n",
    "               q[0] == 0, q[-1] == Q]\n",
    "\n",
    "# define problem\n",
    "problem = cp.Problem(objective, constraints)"
   ]
  },
  {
   "cell_type": "markdown",
   "metadata": {},
   "source": [
    "Assign parameter values and solve the problem. The one-day period starts at 2pm with a medium energy price level until 5pm, high price level from 5pm to midnight and low prices otherwise."
   ]
  },
  {
   "cell_type": "code",
   "execution_count": null,
   "metadata": {},
   "outputs": [],
   "source": [
    "import matplotlib.pyplot as plt\n",
    "\n",
    "p.value = np.concatenate((3*np.ones(3*60),\n",
    "                          5*np.ones(7*60),\n",
    "                          1*np.ones(14*60)), axis=0)\n",
    "eta = 0.1\n",
    "s.value = eta*p.value\n",
    "Q.value = 1\n",
    "C.value = 3*Q.value/(24*60)\n",
    "D.value = 2*C.value\n",
    "gamma.value = 100\n",
    "\n",
    "val = problem.solve()\n",
    "\n",
    "fig, ax1 = plt.subplots()\n",
    "\n",
    "ax1.plot(100*q.value, color='b')\n",
    "ax1.grid()\n",
    "ax1.set_xlabel('Time [min]')\n",
    "ax1.set_ylabel('SOC [%]', color='b')\n",
    "ax1.tick_params(axis='y', labelcolor='b')\n",
    "\n",
    "ax2 = ax1.twinx()\n",
    "ax2.plot(100*p.value / max(p.value), color='m')\n",
    "ax2.set_ylabel('Price Level [%]', color='m')\n",
    "ax2.tick_params(axis='y', labelcolor='m')"
   ]
  },
  {
   "cell_type": "markdown",
   "metadata": {},
   "source": [
    "We observe that it is optimal to charge the storage with maximum power during the medium price phase, then empty the storage when prices are highest, and then fully charge the storage for the lowest price of the day. Generating C source for the problem is as easy as:"
   ]
  },
  {
   "cell_type": "code",
   "execution_count": null,
   "metadata": {},
   "outputs": [],
   "source": [
    "from cvxpygen import cpg\n",
    "\n",
    "cpg.generate_code(problem, code_dir='charging_code')"
   ]
  },
  {
   "cell_type": "markdown",
   "metadata": {},
   "source": [
    "Now, you can use a python wrapper around the generated code as a custom CVXPY solve method."
   ]
  },
  {
   "cell_type": "code",
   "execution_count": null,
   "metadata": {},
   "outputs": [],
   "source": [
    "from charging_code.cpg_solver import cpg_solve\n",
    "import numpy as np\n",
    "import dill as pickle\n",
    "import time\n",
    "\n",
    "# load the serialized problem formulation\n",
    "with open('charging_code/problem.pickle', 'rb') as f:\n",
    "    prob = pickle.load(f)\n",
    "\n",
    "# assign parameter values\n",
    "prob.param_dict['p'].value = np.concatenate((3*np.ones(3*60),\n",
    "                                             5*np.ones(7*60),\n",
    "                                             1*np.ones(14*60)), axis=0)\n",
    "eta = 0.1\n",
    "prob.param_dict['s'].value = eta*prob.param_dict['p'].value\n",
    "prob.param_dict['Q'].value = 1\n",
    "prob.param_dict['C'].value = 5*prob.param_dict['Q'].value/(24*60)\n",
    "prob.param_dict['D'].value = 2*prob.param_dict['C'].value\n",
    "\n",
    "# solve problem conventionally\n",
    "t0 = time.time()\n",
    "# CVXPY chooses eps_abs=eps_rel=1e-5, max_iter=10000, polish=True by default,\n",
    "# however, we choose the OSQP default values here, as they are used for code generation as well\n",
    "val = prob.solve(solver='OSQP', eps_abs=1e-3, eps_rel=1e-3, max_iter=4000, polish=False)\n",
    "t1 = time.time()\n",
    "print('\\nCVXPY\\nSolve time: %.3f ms' % (1000 * (t1 - t0)))\n",
    "print('Objective function value: %.6f\\n' % val)\n",
    "\n",
    "# solve problem with C code via python wrapper\n",
    "prob.register_solve('CPG', cpg_solve)\n",
    "t0 = time.time()\n",
    "val = prob.solve(method='CPG')\n",
    "t1 = time.time()\n",
    "print('\\nCVXPYgen\\nSolve time: %.3f ms' % (1000 * (t1 - t0)))\n",
    "print('Objective function value: %.6f\\n' % val)"
   ]
  },
  {
   "cell_type": "markdown",
   "metadata": {},
   "source": [
    "\\[1\\] Wang, Yang, Brendan O'Donoghue, and Stephen Boyd. \"Approximate dynamic programming via iterated Bellman inequalities.\" International Journal of Robust and Nonlinear Control 25.10 (2015): 1472-1496."
   ]
  }
 ],
 "metadata": {
  "kernelspec": {
   "display_name": "cvxpygen",
   "language": "python",
   "name": "cvxpygen"
  },
  "language_info": {
   "codemirror_mode": {
    "name": "ipython",
    "version": 3
   },
   "file_extension": ".py",
   "mimetype": "text/x-python",
   "name": "python",
   "nbconvert_exporter": "python",
   "pygments_lexer": "ipython3",
   "version": "3.9.7"
  }
 },
 "nbformat": 4,
 "nbformat_minor": 4
}
