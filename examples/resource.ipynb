{
 "cells": [
  {
   "cell_type": "markdown",
   "metadata": {},
   "source": [
    "## Resource Allocation Example\n",
    "\n",
    "Assume we have to assign resources of $m$ classes to $n$ kinds of jobs. This resource allocation is encoded in $X \\in \\mathbb{R}^{n \\times m}$, with $X_{i,j}$ denoting the amount of resource $j$ allocated to job $i$. Given the utility matrix $W \\in \\mathbb{R}^{n \\times m}$, we want to solve the optimization problem\n",
    "\n",
    "\\begin{equation}\n",
    "\\begin{array}{ll}\n",
    "\\text{maximize} \\quad &\\mathrm{tr} \\left( \\min \\left( X W^T, S\\right) \\right)\\\\\n",
    "\\text{subject to} \\quad &X^\\mathrm{min} \\leq X \\leq X^\\mathrm{max} \\\\\n",
    "&X^T \\mathbb{1} \\leq r,\n",
    "\\end{array}\n",
    "\\end{equation}\n",
    "\n",
    "with variable $X \\in \\mathbb{R}^{n \\times m}$. The utility for some job $i$ cannot be increased beyond the saturation value $S_{ii}$, with $S \\in \\mathbb{S}_+^{n}$ being diagonal. The minimum and maximum amounts of resources to be allocated are denoted by $X^\\mathrm{min} \\geq 0$ and $X^\\mathrm{max} \\geq X^\\mathrm{min}$, respectively, while $r$ is the vector of available resources. The problem is feasible if $\\left(X^\\mathrm{min}\\right)^T \\mathbb{1} \\leq r$ and $X^\\mathrm{min} \\leq X^\\mathrm{max}$.\n",
    "\n",
    "Let's define the corresponding CVXPY problem."
   ]
  },
  {
   "cell_type": "code",
   "execution_count": null,
   "metadata": {},
   "outputs": [],
   "source": [
    "import cvxpy as cp\n",
    "import numpy as np\n",
    "\n",
    "# define dimensions\n",
    "n, m = 30, 10\n",
    "\n",
    "# define variable\n",
    "X = cp.Variable((n, m), name='X')\n",
    "\n",
    "# define parameters\n",
    "W = cp.Parameter((n, m), name='W')\n",
    "S = cp.Parameter((n, n), diag=True, name='S')\n",
    "X_min = cp.Parameter((n, m), name='X_min')\n",
    "X_max = cp.Parameter((n, m), name='X_max')\n",
    "r = cp.Parameter(m, name='r')\n",
    "\n",
    "# define objective\n",
    "objective = cp.Maximize(cp.trace(cp.minimum(X@W.T, S)))\n",
    "\n",
    "# define constraints\n",
    "constraints = [X_min <= X, X<= X_max, \n",
    "               X.T@np.ones(n) <= r]\n",
    "\n",
    "# define problem\n",
    "problem = cp.Problem(objective, constraints)"
   ]
  },
  {
   "cell_type": "markdown",
   "metadata": {},
   "source": [
    "Assign parameter values and solve the problem."
   ]
  },
  {
   "cell_type": "code",
   "execution_count": null,
   "metadata": {},
   "outputs": [],
   "source": [
    "np.random.seed(0)\n",
    "\n",
    "W.value = np.ones((n, m)) + 0.1*np.random.rand(n, m)\n",
    "S.value = 100*np.eye(n)\n",
    "X_min.value = np.random.rand(n, m)\n",
    "X_max.value = 10 + np.random.rand(n, m)\n",
    "r.value = np.matmul(X_min.value.T, np.ones(n)) + 10*np.random.rand(m)\n",
    "\n",
    "val = problem.solve()"
   ]
  },
  {
   "cell_type": "markdown",
   "metadata": {},
   "source": [
    "Generating C source for the problem is as easy as:"
   ]
  },
  {
   "cell_type": "code",
   "execution_count": null,
   "metadata": {},
   "outputs": [],
   "source": [
    "from cvxpygen import cpg\n",
    "\n",
    "cpg.generate_code(problem, code_dir='resource_code')"
   ]
  },
  {
   "cell_type": "markdown",
   "metadata": {},
   "source": [
    "Now, you can use a python wrapper around the generated code as a custom CVXPY solve method."
   ]
  },
  {
   "cell_type": "code",
   "execution_count": null,
   "metadata": {},
   "outputs": [],
   "source": [
    "from resource_code.cpg_solver import cpg_solve\n",
    "import numpy as np\n",
    "import dill as pickle\n",
    "import time\n",
    "\n",
    "# load the serialized problem formulation\n",
    "with open('resource_code/problem.pickle', 'rb') as f:\n",
    "    prob = pickle.load(f)\n",
    "\n",
    "# assign parameter values\n",
    "np.random.seed(0)\n",
    "prob.param_dict['S'].value = 100*np.eye(n)\n",
    "prob.param_dict['W'].value = 0.8*np.ones((n, m)) + 0.2*np.random.rand(n, m)\n",
    "prob.param_dict['X_min'].value = np.zeros((n, m))\n",
    "prob.param_dict['X_max'].value = np.ones((n, m))\n",
    "prob.param_dict['r'].value = np.matmul(prob.param_dict['X_min'].value.T, np.ones(n)) + np.random.rand(m)\n",
    "\n",
    "# solve problem conventionally\n",
    "t0 = time.time()\n",
    "# CVXPY chooses eps_abs=eps_rel=1e-5, max_iter=10000, polish=True by default,\n",
    "# however, we choose the OSQP default values here, as they are used for code generation as well\n",
    "val = prob.solve()\n",
    "t1 = time.time()\n",
    "print('\\nCVXPY\\nSolve time: %.3f ms' % (1000 * (t1 - t0)))\n",
    "print('Objective function value: %.6f\\n' % val)\n",
    "\n",
    "# solve problem with C code via python wrapper\n",
    "prob.register_solve('CPG', cpg_solve)\n",
    "t0 = time.time()\n",
    "val = prob.solve(method='CPG')\n",
    "t1 = time.time()\n",
    "print('\\nCVXPYgen\\nSolve time: %.3f ms' % (1000 * (t1 - t0)))\n",
    "print('Objective function value: %.6f\\n' % val)"
   ]
  },
  {
   "cell_type": "code",
   "execution_count": null,
   "metadata": {},
   "outputs": [],
   "source": [
    "from visualization.resource import create_animation\n",
    "from IPython.display import Image\n",
    "    \n",
    "create_animation(prob, 'resource_animation')\n",
    "\n",
    "with open('resource_animation.gif', 'rb') as f:\n",
    "    display(Image(f.read()))"
   ]
  }
 ],
 "metadata": {
  "kernelspec": {
   "display_name": "cvxpygen",
   "language": "python",
   "name": "cvxpygen"
  },
  "language_info": {
   "codemirror_mode": {
    "name": "ipython",
    "version": 3
   },
   "file_extension": ".py",
   "mimetype": "text/x-python",
   "name": "python",
   "nbconvert_exporter": "python",
   "pygments_lexer": "ipython3",
   "version": "3.9.7"
  }
 },
 "nbformat": 4,
 "nbformat_minor": 4
}
