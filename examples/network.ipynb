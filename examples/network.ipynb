{
 "cells": [
  {
   "cell_type": "markdown",
   "metadata": {},
   "source": [
    "## Network Flow Example\n",
    "\n",
    "We have a network of $m$ directed edges that support $n$ flows, each of which goes over a fixed path in the graph.  We denote the flow values as $f \\in \\mathbb{R}_+^n$.  The resulting traffic on the $m$ edges is given by $R f$, where $R \\in \\{0,1\\}^{m \\times n}$ is the routing matrix, with $R_{ij}=1$ if flow $j$ goes over edge $i$, and 0 otherwise.\n",
    "\n",
    "The edges have capacity $c \\in \\mathbb{R}_+^m$, so we have $Rf \\leq c$. The objective is to maximize the total utility, which is $U(f) = \\sum_i U_i(f_i)$, with\n",
    "\n",
    "\\begin{equation}\n",
    "U_i(f_i) = \\begin{cases}\n",
    "-\\infty \\quad &\\text{if} \\quad f_i < f^\\mathrm{min}_i \\\\\n",
    "w_i f_i \\quad &\\text{if} \\quad f^\\mathrm{min}_i \\leq f_i \\leq f_i^\\mathrm{max} \\\\\n",
    "w_i f_i^\\mathrm{max} \\quad &\\text{otherwise},\n",
    "\\end{cases}\n",
    "\\end{equation}\n",
    "\n",
    "\n",
    "where the first case is the implicit version of the constraint $f^\\mathrm{min} \\leq f$. Except for the case of degenerate networks, the third condition will never hold at optimality. Intuitively, when $f_i > f_i^\\mathrm{max}$, reducing $f_i$ at not cost, to free capacity for other flows that run through the edges of flow $i$, improves the objective function. We encode this information in the constraint $f \\leq f^\\mathrm{max}$ and rewrite $U$ in vector form to arrive at the optimization problem\n",
    "\n",
    "\\begin{equation}\n",
    "\\begin{array}{ll}\n",
    "\\text{maximize} \\quad &w^T f \\\\\n",
    "\\text{subject to} \\quad &R f \\leq c \\\\\n",
    "&f^\\mathrm{min} \\leq f \\leq f^\\mathrm{max},\n",
    "\\end{array}\n",
    "\\end{equation}\n",
    "\n",
    "with variable $f \\in \\mathbb{R}_+^n$ and parameters $w\\geq 0$, $c \\geq 0$, $R$, and $0 \\leq f^\\mathrm{min} \\leq f^\\mathrm{max}$.\n",
    "\n",
    "Let's define the corresponding CVXPY problem."
   ]
  },
  {
   "cell_type": "code",
   "execution_count": null,
   "metadata": {},
   "outputs": [],
   "source": [
    "import cvxpy as cp\n",
    "import numpy as np\n",
    "\n",
    "# define dimensions\n",
    "n, m = 4, 5\n",
    "\n",
    "# define variable\n",
    "f = cp.Variable(n, name='f')\n",
    "\n",
    "# define parameters\n",
    "R = cp.Parameter((m, n), name='R')\n",
    "c = cp.Parameter(m, nonneg=True, name='c')\n",
    "w = cp.Parameter(n, nonneg=True, name='w')\n",
    "f_min = cp.Parameter(n, nonneg=True, name='f_min')\n",
    "f_max = cp.Parameter(n, nonneg=True, name='f_max')\n",
    "\n",
    "# define objective\n",
    "objective = cp.Maximize(w@f)\n",
    "\n",
    "# define constraints\n",
    "constraints = [R@f <= c, f_min <= f, f <= f_max]\n",
    "\n",
    "# define problem\n",
    "problem = cp.Problem(objective, constraints)"
   ]
  },
  {
   "cell_type": "markdown",
   "metadata": {},
   "source": [
    "Assign parameter values and solve the problem."
   ]
  },
  {
   "cell_type": "code",
   "execution_count": null,
   "metadata": {},
   "outputs": [],
   "source": [
    "import numpy as np\n",
    "\n",
    "np.random.seed(0)\n",
    "R.value = np.round(np.random.rand(m, n))\n",
    "c.value = n*(0.1+0.1*np.random.rand(m))\n",
    "w.value = 0.1+np.random.rand(n)\n",
    "f_min.value = np.zeros(n)\n",
    "f_max.value = np.ones(n)\n",
    "\n",
    "val = problem.solve()"
   ]
  },
  {
   "cell_type": "markdown",
   "metadata": {},
   "source": [
    "Generating C source for the problem is as easy as:"
   ]
  },
  {
   "cell_type": "code",
   "execution_count": null,
   "metadata": {},
   "outputs": [],
   "source": [
    "from cvxpygen import cpg\n",
    "\n",
    "cpg.generate_code(problem, code_dir='network_code')"
   ]
  },
  {
   "cell_type": "markdown",
   "metadata": {},
   "source": [
    "Now, you can use a python wrapper around the generated code as a custom CVXPY solve method."
   ]
  },
  {
   "cell_type": "code",
   "execution_count": null,
   "metadata": {},
   "outputs": [],
   "source": [
    "from network_code.cpg_solver import cpg_solve\n",
    "import numpy as np\n",
    "import dill as pickle\n",
    "import time\n",
    "\n",
    "# load the serialized problem formulation\n",
    "with open('network_code/problem.pickle', 'rb') as f:\n",
    "    prob = pickle.load(f)\n",
    "\n",
    "# assign parameter values\n",
    "np.random.seed(0)\n",
    "prob.param_dict['R'].value = np.round(np.random.rand(m, n))\n",
    "prob.param_dict['c'].value = n*(0.1+0.1*np.random.rand(m))\n",
    "prob.param_dict['w'].value = np.random.rand(n)\n",
    "prob.param_dict['f_min'].value = np.zeros(n)\n",
    "prob.param_dict['f_max'].value = np.ones(n)\n",
    "\n",
    "# solve problem conventionally\n",
    "t0 = time.time()\n",
    "# CVXPY chooses eps_abs=eps_rel=1e-5, max_iter=10000, polish=True by default,\n",
    "# however, we choose the OSQP default values here, as they are used for code generation as well\n",
    "val = prob.solve()\n",
    "t1 = time.time()\n",
    "print('\\nCVXPY\\nSolve time: %.3f ms' % (1000 * (t1 - t0)))\n",
    "print('Objective function value: %.6f\\n' % val)\n",
    "\n",
    "# solve problem with C code via python wrapper\n",
    "prob.register_solve('CPG', cpg_solve)\n",
    "t0 = time.time()\n",
    "val = prob.solve(method='CPG')\n",
    "t1 = time.time()\n",
    "print('\\nCVXPYgen\\nSolve time: %.3f ms' % (1000 * (t1 - t0)))\n",
    "print('Objective function value: %.6f\\n' % val)"
   ]
  },
  {
   "cell_type": "code",
   "execution_count": null,
   "metadata": {},
   "outputs": [],
   "source": [
    "from visualization.network import create_animation\n",
    "from IPython.display import Image\n",
    "    \n",
    "create_animation(prob, 'network_animation')\n",
    "\n",
    "with open('network_animation.gif', 'rb') as f:\n",
    "    display(Image(f.read()))"
   ]
  }
 ],
 "metadata": {
  "kernelspec": {
   "display_name": "cvxpygen",
   "language": "python",
   "name": "cvxpygen"
  },
  "language_info": {
   "codemirror_mode": {
    "name": "ipython",
    "version": 3
   },
   "file_extension": ".py",
   "mimetype": "text/x-python",
   "name": "python",
   "nbconvert_exporter": "python",
   "pygments_lexer": "ipython3",
   "version": "3.9.7"
  }
 },
 "nbformat": 4,
 "nbformat_minor": 4
}
